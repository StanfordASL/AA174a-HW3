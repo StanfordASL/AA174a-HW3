{
 "cells": [
  {
   "cell_type": "code",
   "execution_count": null,
   "id": "50024020-5226-47eb-89fc-b9ce96c36af6",
   "metadata": {},
   "outputs": [],
   "source": [
    "import numpy as np\n",
    "import cv2\n",
    "import matplotlib.pyplot as plt\n",
    "\n",
    "# For reproducible random results.\n",
    "np.random.seed(789)\n",
    "\n",
    "# The following utility functions are provided for your convenience.\n",
    "# You may use them in your solution, or you may write your own.\n",
    "# Do not alter them, and please read the docstrings carefully.\n",
    "K = np.array([[471.14628085,  -4.94771211, 295.13159043], [0., 436.71106326, 240.96582594], [0., 0., 1.]])\n",
    "SQUARE_SIZE = 0.0205"
   ]
  },
  {
   "cell_type": "markdown",
   "id": "e21a614e-5462-4538-b82c-e8dfe45002ee",
   "metadata": {},
   "source": [
    "## Problem 1.1"
   ]
  },
  {
   "cell_type": "code",
   "execution_count": null,
   "id": "745f4986-d179-4100-a318-0f11b5535921",
   "metadata": {},
   "outputs": [],
   "source": [
    "# Read the image from file\n",
    "img_path = \"p1_data/checkerboard.png\"\n",
    "image = cv2.imread(img_path, 0)\n",
    "\n",
    "# Plot Corners on top of image\n",
    "fig = plt.figure()\n",
    "ax = plt.subplot()\n",
    "ax.imshow(image, cmap=\"gray\")\n",
    "ax.set_ylabel(\"v\")\n",
    "ax.set_xlabel(\"u\")\n",
    "\n",
    "# 1) Find the corner locations of the chessboard in image space.\n",
    "#    Hint: Use the function cv2.findChessboardCorners(image, (num_corners_x, num_corners_y))\n",
    "#    Hint: findChessboardCorners outputs pixel coordinates!\n",
    "# 2) Plot their location in image space over top of the image.\n",
    "#    Hint: use ax.plot(...) -- should be one line!\n",
    "#    Hint: This should only be 1 line of code!\n",
    "\n",
    "ncorners_y = 7\n",
    "ncorners_x = 9\n",
    "# --------- YOUR CODE STARTS HERE ---------------\n",
    "\n",
    "# --------- YOUR CODE ENDS HERE -----------------"
   ]
  },
  {
   "cell_type": "markdown",
   "id": "33574a2d-848e-4528-859b-21700728887b",
   "metadata": {},
   "source": [
    "## Problem 1.2"
   ]
  },
  {
   "cell_type": "code",
   "execution_count": null,
   "id": "f98b9c3c-4735-4926-8a58-34e978353967",
   "metadata": {},
   "outputs": [],
   "source": [
    "# 1)  Compute the homography, H.\n",
    "#     1.a) Use the SQUARE_SIZE, and the dimensions of the grid above to\n",
    "#             to create a the array P = [[X_0, Y_0, 1], .... [X_n, Y_n, 1]].\n",
    "#             P should have shape (63, 3).\n",
    "#          Hint: Use np.meshgrid to generate the X, Y coordinates, and\n",
    "#             array.reshape and np.hstack to form the final matrix.\n",
    "#     1.b) Form the M matrix outlined in the write-up!\n",
    "#     1.c) Use np.linalg.svd(M) to solve for the nullspace of M and recover H.\n",
    "#          Hint: np.linalg.svd(M) returns V.T.\n",
    "#          Hint: Use <array>.reshape(3, 3) to give H the proper dimensions.\n",
    "# 2)  Compute the camera pose rotation, R, and translation, t.\n",
    "#     2.a) Compute KinvH = inv(K) @ H.\n",
    "#          Hint: Use np.linalg.inv().\n",
    "#     2.b) Normalize the values of KinvH to it's first column.\n",
    "#          Hint: Use np.linalg.norm() and the / operator.\n",
    "#     2.c) Compute r0, r1, r2, and t as outlined in the write-up.\n",
    "#          Hint: Use np.cross().\n",
    "#     2.d) Form R from r0, r1, and r2.\n",
    "#          Hint: Use np.column_stack()\n",
    "\n",
    "# --------- YOUR CODE STARTS HERE ---------------\n",
    "\n",
    "# --------- YOUR CODE ENDS HERE -----------------"
   ]
  },
  {
   "cell_type": "markdown",
   "id": "94800521-1960-4893-8779-01545b8a5196",
   "metadata": {},
   "source": [
    "## Problem 1.3"
   ]
  },
  {
   "cell_type": "code",
   "execution_count": null,
   "id": "6c44a75a-ef9e-4460-8beb-5b4ee61f7974",
   "metadata": {},
   "outputs": [],
   "source": [
    "# 1) Finish the transform_world_to_camera function which uses\n",
    "#       the given K, and the R and t that you calculated!.\n",
    "#    Hint: You'll need to use some equations from the write-up.\n",
    "\n",
    "def transform_world_to_camera(K, R, t, world_coords):\n",
    "    \"\"\"\n",
    "    Args:\n",
    "        K: np.array with shape (3, 3), camera intrinsics matrix.\n",
    "        R: np.array with shape (3, 3), camera rotation.\n",
    "        t: np.array with shape (3, ) or (3, 1), camera translation.\n",
    "        world_coords: np.array with shape (N, 3), cartesian coordinates (X, Y, Z)\n",
    "            in world frame to transform into camera pixel space.\n",
    "    Return:\n",
    "        uv: np.array with shape (N, 2), with (u, v) coordinates of that are\n",
    "            the projections of the the world_coords on the image plane.\n",
    "    \"\"\"\n",
    "    # --------- YOUR CODE STARTS HERE ---------------\n",
    "\n",
    "    # --------- YOUR CODE ENDS HERE -----------------\n",
    "    return uv\n",
    "\n",
    "ax = plt.subplot()\n",
    "ax.imshow(image, cmap=\"gray\")\n",
    "ax.set_xlabel(\"u\")\n",
    "ax.set_ylabel(\"v\")\n",
    "\n",
    "# 2) Project the global coordinates of the corners that you calculated\n",
    "#       earlier back onto the image using transform_world_to_camera.\n",
    "#    Hint: The input world_coords should have shape (63, 3)\n",
    "#    Hint: Use the Xs and Ys you got earlier and set Zs = 0.\n",
    "#    Hint: You may need to change some of the variable names at the bottom\n",
    "#       of this cell to match the names that you used above!\n",
    "\n",
    "# --------- YOUR CODE STARTS HERE ---------------\n",
    "\n",
    "# --------- YOUR CODE ENDS HERE -----------------"
   ]
  },
  {
   "cell_type": "markdown",
   "id": "cb3aaf4d-33c8-4787-b4d9-c6ebf4b370c4",
   "metadata": {},
   "source": [
    "## Project Anything!\n",
    "Try using your the camera pose you computed to project our secret point cloud (defined in world coordinates) onto the camera frame!"
   ]
  },
  {
   "cell_type": "code",
   "execution_count": null,
   "id": "2dd683b4-df47-464a-af31-f8463e8fa95a",
   "metadata": {},
   "outputs": [],
   "source": [
    "ax = plt.subplot()\n",
    "ax.imshow(image, cmap=\"gray\")\n",
    "ax.set_xlabel(\"u\")\n",
    "ax.set_ylabel(\"v\")\n",
    "\n",
    "# Load the secrect point cloud from file!\n",
    "point_cloud_secret = np.load(\"p1_data/secret.npy\")\n",
    "\n",
    "# NOTE: Uncomment the lines below when you've finished everything else!\n",
    "# uv_secret = transform_world_to_camera(K, R, t, point_cloud_secret)\n",
    "# ax.scatter(uv_secret[:, 0], uv_secret[:, 1], s=0.5, c=\"b\")"
   ]
  }
 ],
 "metadata": {
  "kernelspec": {
   "display_name": "Python 3 (ipykernel)",
   "language": "python",
   "name": "python3"
  },
  "language_info": {
   "codemirror_mode": {
    "name": "ipython",
    "version": 3
   },
   "file_extension": ".py",
   "mimetype": "text/x-python",
   "name": "python",
   "nbconvert_exporter": "python",
   "pygments_lexer": "ipython3",
   "version": "3.10.12"
  }
 },
 "nbformat": 4,
 "nbformat_minor": 5
}
