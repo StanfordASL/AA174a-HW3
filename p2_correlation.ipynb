{
 "cells": [
  {
   "cell_type": "code",
   "execution_count": null,
   "metadata": {},
   "outputs": [],
   "source": [
    "import cv2\n",
    "import numpy as np\n",
    "import matplotlib.pyplot as plt\n",
    "from scipy import signal\n",
    "\n",
    "# Loading example image.\n",
    "img_path = \"p2_data/camera_man_grayscale.jpeg\"\n",
    "image = cv2.imread(img_path, 0)\n",
    "\n",
    "_ = plt.figure()\n",
    "ax = plt.subplot()\n",
    "ax.imshow(image, cmap=\"gray\")\n",
    "ax.axis(\"off\")\n",
    "ax.set_title(\"Original Image\")\n",
    "plt.show()"
   ]
  },
  {
   "cell_type": "markdown",
   "metadata": {},
   "source": [
    "## Problem 2 (iii)"
   ]
  },
  {
   "cell_type": "markdown",
   "metadata": {},
   "source": [
    "### Part 1: Correlate Image\n",
    "Complete the `correlate_image` function below."
   ]
  },
  {
   "cell_type": "code",
   "execution_count": null,
   "metadata": {},
   "outputs": [],
   "source": [
    "def correlate_image(image: np.ndarray, filter: np.ndarray) -> np.ndarray:\n",
    "    \"\"\"Correlate the grayscale image with the filter.\n",
    "    \n",
    "    Args:\n",
    "        image: (N, M) The grayscale image to filter.\n",
    "        filter: (3, 3) The filter to apply.\n",
    "\n",
    "    Returns:\n",
    "        filtered_image: (N-2, M-2) filtered image.\n",
    "    \"\"\"\n",
    "    image = image.copy()\n",
    "\n",
    "    # --------- YOUR CODE STARTS HERE ---------------\n",
    "    # Hint: You can use the correlate2d function from scipy.signal.\n",
    "    # --------- YOUR CODE ENDS HERE -----------------\n",
    "\n",
    "    return filtered_image"
   ]
  },
  {
   "cell_type": "code",
   "execution_count": null,
   "metadata": {},
   "outputs": [],
   "source": [
    "# Evaluate your correlation function implementation!\n",
    "# NOTE: You should not need to modify the code below.\n",
    "\n",
    "# Example a) horizontal edge detection filter.\n",
    "horizontal_filter = np.array([[-1, -1, -1],\n",
    "                              [2, 2, 2],\n",
    "                              [-1, -1, -1]])\n",
    "horizontal_filtered_image = correlate_image(image, horizontal_filter)\n",
    "                              \n",
    "# Example b) vertical edge detection filter.\n",
    "vertical_filter = np.array([[-1, 2, -1],\n",
    "                            [-1, 2, -1],\n",
    "                            [-1, 2, -1]])\n",
    "vertical_filtered_image = correlate_image(image, vertical_filter)\n",
    "\n",
    "# Plot results.\n",
    "fig, axes = plt.subplots(1, 3, figsize=(15, 5))\n",
    "\n",
    "axes[0].imshow(image, cmap='gray')\n",
    "axes[0].set_title('Original Image')\n",
    "axes[0].axis('off')\n",
    "\n",
    "axes[1].imshow(horizontal_filtered_image, cmap='gray')\n",
    "axes[1].set_title('Horizontally Filtered Image')\n",
    "axes[1].axis('off')\n",
    "\n",
    "axes[2].imshow(vertical_filtered_image, cmap='gray')\n",
    "axes[2].set_title('Vertically Filtered Image')\n",
    "axes[2].axis('off')\n",
    "\n",
    "plt.tight_layout()\n",
    "plt.show()"
   ]
  },
  {
   "cell_type": "markdown",
   "metadata": {},
   "source": [
    "### Part 2: Gaussian Blur Filter\n",
    "Complete the `create_gaussian_filter` function below."
   ]
  },
  {
   "cell_type": "code",
   "execution_count": null,
   "metadata": {},
   "outputs": [],
   "source": [
    "def create_gaussian_filter(sigma: float) -> np.ndarray:\n",
    "    \"\"\"Construct (3, 3) Gaussian filter with the given sigma.\n",
    "    \n",
    "    Args:\n",
    "        sigma: The standard deviation of the Gaussian filter.\n",
    "\n",
    "    Returns:\n",
    "        gaussian_filter: (3, 3) Gaussian filter.\n",
    "    \"\"\"\n",
    "    # --------- YOUR CODE STARTS HERE ---------------\n",
    "    # Hint: np.meshgrid() might be useful here.\n",
    "    # Hint: Normalize filter so its values sum up to 1.\n",
    "    # --------- YOUR CODE ENDS HERE -----------------\n",
    "    \n",
    "    return gaussian_filter\n"
   ]
  },
  {
   "cell_type": "code",
   "execution_count": null,
   "metadata": {},
   "outputs": [],
   "source": [
    "# Evaluate your Gaussian filter function implementation!\n",
    "# NOTE: You should not need to modify the code below.\n",
    "\n",
    "# Example a) Gaussian filter with 0.5 standard deviation.\n",
    "gaussian_filter_1 = create_gaussian_filter(0.5)\n",
    "gaussian_filtered_image_1 = correlate_image(image, gaussian_filter_1)\n",
    "                              \n",
    "# Example b) Gaussian filter with 2.0 standard deviation.\n",
    "gaussian_filter_2 = create_gaussian_filter(2.0)\n",
    "gaussian_filtered_image_2 = correlate_image(image, gaussian_filter_2)\n",
    "\n",
    "# Plot results.\n",
    "fig, axes = plt.subplots(1, 3, figsize=(15, 5))\n",
    "\n",
    "axes[0].imshow(image, cmap='gray')\n",
    "axes[0].set_title('Original Image')\n",
    "axes[0].axis('off')\n",
    "\n",
    "axes[1].imshow(gaussian_filtered_image_1, cmap='gray')\n",
    "axes[1].set_title(r'Gaussian Blur $\\sigma=0.5$')\n",
    "axes[1].axis('off')\n",
    "\n",
    "axes[2].imshow(gaussian_filtered_image_2, cmap='gray')\n",
    "axes[2].set_title(r'Gaussian Blur $\\sigma=2.0$')\n",
    "axes[2].axis('off')\n",
    "\n",
    "plt.tight_layout()\n",
    "plt.show()\n"
   ]
  }
 ],
 "metadata": {
  "kernelspec": {
   "display_name": "aa174a",
   "language": "python",
   "name": "python3"
  },
  "language_info": {
   "codemirror_mode": {
    "name": "ipython",
    "version": 3
   },
   "file_extension": ".py",
   "mimetype": "text/x-python",
   "name": "python",
   "nbconvert_exporter": "python",
   "pygments_lexer": "ipython3",
   "version": "3.8.18"
  }
 },
 "nbformat": 4,
 "nbformat_minor": 2
}
